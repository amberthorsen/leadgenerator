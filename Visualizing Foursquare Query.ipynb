{
 "cells": [
  {
   "cell_type": "markdown",
   "metadata": {},
   "source": [
    "# Using Foursquare to generate a targeted list for B2B sales"
   ]
  },
  {
   "cell_type": "markdown",
   "metadata": {},
   "source": [
    "## Part 1:  Importing data & filter results from Foursquare"
   ]
  },
  {
   "cell_type": "markdown",
   "metadata": {},
   "source": [
    "#### Business problem"
   ]
  },
  {
   "cell_type": "markdown",
   "metadata": {},
   "source": [
    "Business to business sales often involves extensive driving for purposes of scouting neighborhoods and identifying target businesses.  Analyzing neighborhoods and visualizing short lists of businesses can help sales staff to visualize target businesses and determine strategic routes.  This can help to increase the number of target businesses reached in a given day.  In a field where success is directly proportional to the number of businesses reached, this can result in a higher ROI on time invested.  In this example I will pretend that I am working with a startup gluten-free baking company that is looking to develop business channels for selling their gluten-free vegetarian brownie."
   ]
  },
  {
   "cell_type": "markdown",
   "metadata": {},
   "source": [
    "#### Data requirements"
   ]
  },
  {
   "cell_type": "markdown",
   "metadata": {},
   "source": [
    "Data needed would be:\n",
    "\n",
    "*Zip codes that will be targeted*\n",
    "\n",
    "The datasource for this will be OpenDataSoft (ODS).  The site hosts a [US Zip Code](https://public.opendatasoft.com/explore/dataset/us-zip-codes/table/) file that can be filtered by cities of interest.  From this file, I will need to collect the following features\n",
    "- Zipcode:  lists all relevant zip codes\n",
    "- City:  name of city in which the zip code is located\n",
    "- Lat:  latitude at center point of zip code\n",
    "- Long: longitude at center point of zip code\n",
    "\n",
    "*Foursquare data on business locations*\n",
    "\n",
    "The assumption here is that top results would reflect popularity to some extent.  More popular businesses would correlate with higher potential sales of gluten-free vegetarian brownies through these business channels.  Features of interest would be:\n",
    "- Business name\n",
    "- Location latitude\n",
    "- Location longitude\n",
    "- Business type or catogory"
   ]
  },
  {
   "cell_type": "markdown",
   "metadata": {},
   "source": [
    "#### Data collection"
   ]
  },
  {
   "cell_type": "markdown",
   "metadata": {},
   "source": [
    "##### Collect zip codes"
   ]
  },
  {
   "cell_type": "markdown",
   "metadata": {},
   "source": [
    "In this example I will focus on analyzing zip codes in New Orleans.  To start, I'll need to import libraries that will:\n",
    "- allow me to connect to the OpenDataSoft URL\n",
    "- convert the data received into a palatable dataframe\n",
    "- enable dataframe manipulation"
   ]
  },
  {
   "cell_type": "code",
   "execution_count": 115,
   "metadata": {},
   "outputs": [],
   "source": [
    "import pandas as pd\n",
    "import json\n",
    "import requests\n",
    "\n",
    "# transforming json file into pandas dataframe library\n",
    "from pandas.io.json import json_normalize"
   ]
  },
  {
   "cell_type": "markdown",
   "metadata": {},
   "source": [
    "I want to make the API connection flexible, so I will set up variables that enable me to change the city and state."
   ]
  },
  {
   "cell_type": "code",
   "execution_count": 116,
   "metadata": {},
   "outputs": [
    {
     "name": "stdout",
     "output_type": "stream",
     "text": [
      "200\n"
     ]
    }
   ],
   "source": [
    "# set up city and state\n",
    "city = 'New Orleans'\n",
    "zipcodes = 66 # the API limit is 10 so for a full list of zip codes I matched the number of search results\n",
    "state = 'LA'\n",
    "\n",
    "# set up URL to accept city and state as variables\n",
    "url = \"https://public.opendatasoft.com/api/records/1.0/search/?dataset=us-zip-code-latitude-and-longitude&q={}&rows={}&facet=state&facet=timezone&facet=dst&refine.state={}\".format(city, zipcodes, state)\n",
    "\n",
    "# fetch URL\n",
    "response = requests.get(url)\n",
    "\n",
    "# validate that connection was successful\n",
    "print(response.status_code)"
   ]
  },
  {
   "cell_type": "markdown",
   "metadata": {},
   "source": [
    "The status code signals that the connection was successful.  Now I'm ready to create a pandas dataframe using data collected from the API.  By inspecting the dataset on the website, I've identified that zip code data is stored in the records key."
   ]
  },
  {
   "cell_type": "code",
   "execution_count": 117,
   "metadata": {},
   "outputs": [
    {
     "data": {
      "text/html": [
       "<div>\n",
       "<style scoped>\n",
       "    .dataframe tbody tr th:only-of-type {\n",
       "        vertical-align: middle;\n",
       "    }\n",
       "\n",
       "    .dataframe tbody tr th {\n",
       "        vertical-align: top;\n",
       "    }\n",
       "\n",
       "    .dataframe thead th {\n",
       "        text-align: right;\n",
       "    }\n",
       "</style>\n",
       "<table border=\"1\" class=\"dataframe\">\n",
       "  <thead>\n",
       "    <tr style=\"text-align: right;\">\n",
       "      <th></th>\n",
       "      <th>datasetid</th>\n",
       "      <th>recordid</th>\n",
       "      <th>record_timestamp</th>\n",
       "      <th>fields.city</th>\n",
       "      <th>fields.zip</th>\n",
       "      <th>fields.dst</th>\n",
       "      <th>fields.geopoint</th>\n",
       "      <th>fields.longitude</th>\n",
       "      <th>fields.state</th>\n",
       "      <th>fields.latitude</th>\n",
       "      <th>fields.timezone</th>\n",
       "      <th>geometry.type</th>\n",
       "      <th>geometry.coordinates</th>\n",
       "    </tr>\n",
       "  </thead>\n",
       "  <tbody>\n",
       "    <tr>\n",
       "      <th>0</th>\n",
       "      <td>us-zip-code-latitude-and-longitude</td>\n",
       "      <td>2754d6f177556f7c4bdc2f04c400b102df78d3d8</td>\n",
       "      <td>2018-02-09T16:33:38.603000+00:00</td>\n",
       "      <td>New Orleans</td>\n",
       "      <td>70156</td>\n",
       "      <td>1</td>\n",
       "      <td>[30.032997, -89.882564]</td>\n",
       "      <td>-89.882564</td>\n",
       "      <td>LA</td>\n",
       "      <td>30.032997</td>\n",
       "      <td>-6</td>\n",
       "      <td>Point</td>\n",
       "      <td>[-89.882564, 30.032997]</td>\n",
       "    </tr>\n",
       "    <tr>\n",
       "      <th>1</th>\n",
       "      <td>us-zip-code-latitude-and-longitude</td>\n",
       "      <td>bb1c8e44694e2766ad81bd1474f81f5d6234ae66</td>\n",
       "      <td>2018-02-09T16:33:38.603000+00:00</td>\n",
       "      <td>New Orleans</td>\n",
       "      <td>70175</td>\n",
       "      <td>1</td>\n",
       "      <td>[30.032997, -89.882564]</td>\n",
       "      <td>-89.882564</td>\n",
       "      <td>LA</td>\n",
       "      <td>30.032997</td>\n",
       "      <td>-6</td>\n",
       "      <td>Point</td>\n",
       "      <td>[-89.882564, 30.032997]</td>\n",
       "    </tr>\n",
       "    <tr>\n",
       "      <th>2</th>\n",
       "      <td>us-zip-code-latitude-and-longitude</td>\n",
       "      <td>1824eb231990370b665fb35eb12ab67171df9bd3</td>\n",
       "      <td>2018-02-09T16:33:38.603000+00:00</td>\n",
       "      <td>New Orleans</td>\n",
       "      <td>70146</td>\n",
       "      <td>1</td>\n",
       "      <td>[30.032997, -89.882564]</td>\n",
       "      <td>-89.882564</td>\n",
       "      <td>LA</td>\n",
       "      <td>30.032997</td>\n",
       "      <td>-6</td>\n",
       "      <td>Point</td>\n",
       "      <td>[-89.882564, 30.032997]</td>\n",
       "    </tr>\n",
       "    <tr>\n",
       "      <th>3</th>\n",
       "      <td>us-zip-code-latitude-and-longitude</td>\n",
       "      <td>f83cad30ec0abfc4178b7825d4404a66cef65a44</td>\n",
       "      <td>2018-02-09T16:33:38.603000+00:00</td>\n",
       "      <td>New Orleans</td>\n",
       "      <td>70182</td>\n",
       "      <td>1</td>\n",
       "      <td>[30.067646, -89.815993]</td>\n",
       "      <td>-89.815993</td>\n",
       "      <td>LA</td>\n",
       "      <td>30.067646</td>\n",
       "      <td>-6</td>\n",
       "      <td>Point</td>\n",
       "      <td>[-89.815993, 30.067646]</td>\n",
       "    </tr>\n",
       "    <tr>\n",
       "      <th>4</th>\n",
       "      <td>us-zip-code-latitude-and-longitude</td>\n",
       "      <td>c2f3aab82b85ef46d7d26bb61c5714a56b15df25</td>\n",
       "      <td>2018-02-09T16:33:38.603000+00:00</td>\n",
       "      <td>New Orleans</td>\n",
       "      <td>70115</td>\n",
       "      <td>1</td>\n",
       "      <td>[29.927305, -90.10197]</td>\n",
       "      <td>-90.101970</td>\n",
       "      <td>LA</td>\n",
       "      <td>29.927305</td>\n",
       "      <td>-6</td>\n",
       "      <td>Point</td>\n",
       "      <td>[-90.10197, 29.927305]</td>\n",
       "    </tr>\n",
       "  </tbody>\n",
       "</table>\n",
       "</div>"
      ],
      "text/plain": [
       "                            datasetid  \\\n",
       "0  us-zip-code-latitude-and-longitude   \n",
       "1  us-zip-code-latitude-and-longitude   \n",
       "2  us-zip-code-latitude-and-longitude   \n",
       "3  us-zip-code-latitude-and-longitude   \n",
       "4  us-zip-code-latitude-and-longitude   \n",
       "\n",
       "                                   recordid                  record_timestamp  \\\n",
       "0  2754d6f177556f7c4bdc2f04c400b102df78d3d8  2018-02-09T16:33:38.603000+00:00   \n",
       "1  bb1c8e44694e2766ad81bd1474f81f5d6234ae66  2018-02-09T16:33:38.603000+00:00   \n",
       "2  1824eb231990370b665fb35eb12ab67171df9bd3  2018-02-09T16:33:38.603000+00:00   \n",
       "3  f83cad30ec0abfc4178b7825d4404a66cef65a44  2018-02-09T16:33:38.603000+00:00   \n",
       "4  c2f3aab82b85ef46d7d26bb61c5714a56b15df25  2018-02-09T16:33:38.603000+00:00   \n",
       "\n",
       "   fields.city fields.zip  fields.dst          fields.geopoint  \\\n",
       "0  New Orleans      70156           1  [30.032997, -89.882564]   \n",
       "1  New Orleans      70175           1  [30.032997, -89.882564]   \n",
       "2  New Orleans      70146           1  [30.032997, -89.882564]   \n",
       "3  New Orleans      70182           1  [30.067646, -89.815993]   \n",
       "4  New Orleans      70115           1   [29.927305, -90.10197]   \n",
       "\n",
       "   fields.longitude fields.state  fields.latitude  fields.timezone  \\\n",
       "0        -89.882564           LA        30.032997               -6   \n",
       "1        -89.882564           LA        30.032997               -6   \n",
       "2        -89.882564           LA        30.032997               -6   \n",
       "3        -89.815993           LA        30.067646               -6   \n",
       "4        -90.101970           LA        29.927305               -6   \n",
       "\n",
       "  geometry.type     geometry.coordinates  \n",
       "0         Point  [-89.882564, 30.032997]  \n",
       "1         Point  [-89.882564, 30.032997]  \n",
       "2         Point  [-89.882564, 30.032997]  \n",
       "3         Point  [-89.815993, 30.067646]  \n",
       "4         Point   [-90.10197, 29.927305]  "
      ]
     },
     "execution_count": 117,
     "metadata": {},
     "output_type": "execute_result"
    }
   ],
   "source": [
    "x = response.json() # returns a json object of the result\n",
    "zipcodes = x['records'] # assigns records from API call to zipcodes\n",
    "df = pd.json_normalize(zipcodes) # converts result into a palatable dataframe\n",
    "df.head() # prints first 5 rows from dataframe"
   ]
  },
  {
   "cell_type": "markdown",
   "metadata": {},
   "source": [
    "Next I can filter down the dataframe to show only the features of interest"
   ]
  },
  {
   "cell_type": "code",
   "execution_count": 118,
   "metadata": {},
   "outputs": [
    {
     "data": {
      "text/html": [
       "<div>\n",
       "<style scoped>\n",
       "    .dataframe tbody tr th:only-of-type {\n",
       "        vertical-align: middle;\n",
       "    }\n",
       "\n",
       "    .dataframe tbody tr th {\n",
       "        vertical-align: top;\n",
       "    }\n",
       "\n",
       "    .dataframe thead th {\n",
       "        text-align: right;\n",
       "    }\n",
       "</style>\n",
       "<table border=\"1\" class=\"dataframe\">\n",
       "  <thead>\n",
       "    <tr style=\"text-align: right;\">\n",
       "      <th></th>\n",
       "      <th>fields.city</th>\n",
       "      <th>fields.zip</th>\n",
       "      <th>fields.longitude</th>\n",
       "      <th>fields.latitude</th>\n",
       "    </tr>\n",
       "  </thead>\n",
       "  <tbody>\n",
       "    <tr>\n",
       "      <th>0</th>\n",
       "      <td>New Orleans</td>\n",
       "      <td>70156</td>\n",
       "      <td>-89.882564</td>\n",
       "      <td>30.032997</td>\n",
       "    </tr>\n",
       "    <tr>\n",
       "      <th>1</th>\n",
       "      <td>New Orleans</td>\n",
       "      <td>70175</td>\n",
       "      <td>-89.882564</td>\n",
       "      <td>30.032997</td>\n",
       "    </tr>\n",
       "    <tr>\n",
       "      <th>2</th>\n",
       "      <td>New Orleans</td>\n",
       "      <td>70146</td>\n",
       "      <td>-89.882564</td>\n",
       "      <td>30.032997</td>\n",
       "    </tr>\n",
       "    <tr>\n",
       "      <th>3</th>\n",
       "      <td>New Orleans</td>\n",
       "      <td>70182</td>\n",
       "      <td>-89.815993</td>\n",
       "      <td>30.067646</td>\n",
       "    </tr>\n",
       "    <tr>\n",
       "      <th>4</th>\n",
       "      <td>New Orleans</td>\n",
       "      <td>70115</td>\n",
       "      <td>-90.101970</td>\n",
       "      <td>29.927305</td>\n",
       "    </tr>\n",
       "  </tbody>\n",
       "</table>\n",
       "</div>"
      ],
      "text/plain": [
       "   fields.city fields.zip  fields.longitude  fields.latitude\n",
       "0  New Orleans      70156        -89.882564        30.032997\n",
       "1  New Orleans      70175        -89.882564        30.032997\n",
       "2  New Orleans      70146        -89.882564        30.032997\n",
       "3  New Orleans      70182        -89.815993        30.067646\n",
       "4  New Orleans      70115        -90.101970        29.927305"
      ]
     },
     "execution_count": 118,
     "metadata": {},
     "output_type": "execute_result"
    }
   ],
   "source": [
    "new_orleans_zipcodes = df[\n",
    "    [\n",
    "        'fields.city',\n",
    "        'fields.zip',\n",
    "        'fields.longitude',\n",
    "        'fields.latitude'\n",
    "    ]\n",
    "]\n",
    "\n",
    "new_orleans_zipcodes.head()"
   ]
  },
  {
   "cell_type": "markdown",
   "metadata": {},
   "source": [
    "The column names aren't very convenient, so I will change those."
   ]
  },
  {
   "cell_type": "code",
   "execution_count": 119,
   "metadata": {},
   "outputs": [
    {
     "data": {
      "text/html": [
       "<div>\n",
       "<style scoped>\n",
       "    .dataframe tbody tr th:only-of-type {\n",
       "        vertical-align: middle;\n",
       "    }\n",
       "\n",
       "    .dataframe tbody tr th {\n",
       "        vertical-align: top;\n",
       "    }\n",
       "\n",
       "    .dataframe thead th {\n",
       "        text-align: right;\n",
       "    }\n",
       "</style>\n",
       "<table border=\"1\" class=\"dataframe\">\n",
       "  <thead>\n",
       "    <tr style=\"text-align: right;\">\n",
       "      <th></th>\n",
       "      <th>city</th>\n",
       "      <th>zipcode</th>\n",
       "      <th>long</th>\n",
       "      <th>lat</th>\n",
       "    </tr>\n",
       "  </thead>\n",
       "  <tbody>\n",
       "    <tr>\n",
       "      <th>0</th>\n",
       "      <td>New Orleans</td>\n",
       "      <td>70156</td>\n",
       "      <td>-89.882564</td>\n",
       "      <td>30.032997</td>\n",
       "    </tr>\n",
       "    <tr>\n",
       "      <th>1</th>\n",
       "      <td>New Orleans</td>\n",
       "      <td>70175</td>\n",
       "      <td>-89.882564</td>\n",
       "      <td>30.032997</td>\n",
       "    </tr>\n",
       "    <tr>\n",
       "      <th>2</th>\n",
       "      <td>New Orleans</td>\n",
       "      <td>70146</td>\n",
       "      <td>-89.882564</td>\n",
       "      <td>30.032997</td>\n",
       "    </tr>\n",
       "    <tr>\n",
       "      <th>3</th>\n",
       "      <td>New Orleans</td>\n",
       "      <td>70182</td>\n",
       "      <td>-89.815993</td>\n",
       "      <td>30.067646</td>\n",
       "    </tr>\n",
       "    <tr>\n",
       "      <th>4</th>\n",
       "      <td>New Orleans</td>\n",
       "      <td>70115</td>\n",
       "      <td>-90.101970</td>\n",
       "      <td>29.927305</td>\n",
       "    </tr>\n",
       "  </tbody>\n",
       "</table>\n",
       "</div>"
      ],
      "text/plain": [
       "          city zipcode       long        lat\n",
       "0  New Orleans   70156 -89.882564  30.032997\n",
       "1  New Orleans   70175 -89.882564  30.032997\n",
       "2  New Orleans   70146 -89.882564  30.032997\n",
       "3  New Orleans   70182 -89.815993  30.067646\n",
       "4  New Orleans   70115 -90.101970  29.927305"
      ]
     },
     "execution_count": 119,
     "metadata": {},
     "output_type": "execute_result"
    }
   ],
   "source": [
    "#map old values to new values\n",
    "col_names = {\n",
    "    'fields.city': 'city',\n",
    "    'fields.zip': 'zipcode',\n",
    "    'fields.longitude': 'long',\n",
    "    'fields.latitude': 'lat'\n",
    "}\n",
    "\n",
    "# pass dictionaries to rename method\n",
    "zipcode_df = new_orleans_zipcodes.rename(columns=col_names)\n",
    "zipcode_df.head()"
   ]
  },
  {
   "cell_type": "code",
   "execution_count": 120,
   "metadata": {},
   "outputs": [
    {
     "data": {
      "text/plain": [
       "New Orleans    66\n",
       "Name: city, dtype: int64"
      ]
     },
     "execution_count": 120,
     "metadata": {},
     "output_type": "execute_result"
    }
   ],
   "source": [
    "city = zipcode_df['city']\n",
    "\n",
    "# validate that all zipcodes belong to New Orleans\n",
    "city.value_counts()"
   ]
  },
  {
   "cell_type": "markdown",
   "metadata": {},
   "source": [
    "There API returned 66 zipcodes, and all of them are located within the city limits of New Orleans."
   ]
  },
  {
   "cell_type": "markdown",
   "metadata": {},
   "source": [
    "##### Collect venue data"
   ]
  },
  {
   "cell_type": "markdown",
   "metadata": {},
   "source": [
    "First I need to define my Foursquare credentials"
   ]
  },
  {
   "cell_type": "code",
   "execution_count": 121,
   "metadata": {},
   "outputs": [],
   "source": [
    "import fs_secrets"
   ]
  },
  {
   "cell_type": "code",
   "execution_count": 122,
   "metadata": {},
   "outputs": [],
   "source": [
    "CLIENT_ID = fs_secrets.client_id # your Foursquare ID\n",
    "CLIENT_SECRET = fs_secrets.client_secret # your Foursquare Secret\n",
    "VERSION = '20180605' # Foursquare API version\n",
    "LIMIT = 200 # A default Foursquare API limit value"
   ]
  },
  {
   "cell_type": "code",
   "execution_count": 123,
   "metadata": {},
   "outputs": [],
   "source": [
    "def getNearbyVenues(zipcode, latitudes, longitudes, radius=1000):\n",
    "    \n",
    "    venues_list=[]\n",
    "    for zipcode, lat, lng in zip(zipcode, latitudes, longitudes):\n",
    "            \n",
    "        # create the API request URL\n",
    "        fs_url = 'https://api.foursquare.com/v2/venues/explore?&client_id={}&client_secret={}&v={}&ll={},{}&radius={}&limit={}'.format(\n",
    "            CLIENT_ID, \n",
    "            CLIENT_SECRET, \n",
    "            VERSION, \n",
    "            lat, \n",
    "            lng, \n",
    "            radius, \n",
    "            LIMIT)\n",
    "            \n",
    "        # make the GET request\n",
    "        results = requests.get(fs_url).json()[\"response\"]['groups'][0]['items']\n",
    "        \n",
    "        # return only relevant information for each nearby venue\n",
    "        venues_list.append([(\n",
    "            zipcode, \n",
    "            lat, \n",
    "            lng, \n",
    "            v['venue']['name'], \n",
    "            v['venue']['location']['lat'], \n",
    "            v['venue']['location']['lng'],  \n",
    "            v['venue']['categories'][0]['name']) for v in results])\n",
    "\n",
    "    nearby_venues = pd.DataFrame([item for venue_list in venues_list for item in venue_list])\n",
    "    nearby_venues.columns = ['zipcode', \n",
    "                  'zip_lat', \n",
    "                  'zip_long', \n",
    "                  'venue', \n",
    "                  'venue_lat', \n",
    "                  'venue_long', \n",
    "                  'venue_category']\n",
    "    \n",
    "    return(nearby_venues)"
   ]
  },
  {
   "cell_type": "markdown",
   "metadata": {},
   "source": [
    "Create a dataframe named new_orleans_venues and run the function getNearbyVenues using the zipcodes, latitude, and longitude data from the chicagozip_df dataframe created earlier."
   ]
  },
  {
   "cell_type": "code",
   "execution_count": 124,
   "metadata": {},
   "outputs": [],
   "source": [
    "neworleans_venues = getNearbyVenues(zipcode=zipcode_df['zipcode'],\n",
    "                                  latitudes=zipcode_df['lat'],\n",
    "                                  longitudes=zipcode_df['long']\n",
    "                                  )"
   ]
  },
  {
   "cell_type": "markdown",
   "metadata": {},
   "source": [
    "Preview the results by looking at the shape of the dataframe to see how many venues were returned, and the first 5 rows of the dataframe."
   ]
  },
  {
   "cell_type": "code",
   "execution_count": 125,
   "metadata": {},
   "outputs": [
    {
     "name": "stdout",
     "output_type": "stream",
     "text": [
      "(1300, 7)\n"
     ]
    },
    {
     "data": {
      "text/html": [
       "<div>\n",
       "<style scoped>\n",
       "    .dataframe tbody tr th:only-of-type {\n",
       "        vertical-align: middle;\n",
       "    }\n",
       "\n",
       "    .dataframe tbody tr th {\n",
       "        vertical-align: top;\n",
       "    }\n",
       "\n",
       "    .dataframe thead th {\n",
       "        text-align: right;\n",
       "    }\n",
       "</style>\n",
       "<table border=\"1\" class=\"dataframe\">\n",
       "  <thead>\n",
       "    <tr style=\"text-align: right;\">\n",
       "      <th></th>\n",
       "      <th>zipcode</th>\n",
       "      <th>zip_lat</th>\n",
       "      <th>zip_long</th>\n",
       "      <th>venue</th>\n",
       "      <th>venue_lat</th>\n",
       "      <th>venue_long</th>\n",
       "      <th>venue_category</th>\n",
       "    </tr>\n",
       "  </thead>\n",
       "  <tbody>\n",
       "    <tr>\n",
       "      <th>0</th>\n",
       "      <td>70156</td>\n",
       "      <td>30.032997</td>\n",
       "      <td>-89.882564</td>\n",
       "      <td>Barkemeyer Law Firm</td>\n",
       "      <td>30.033591</td>\n",
       "      <td>-89.884306</td>\n",
       "      <td>Lawyer</td>\n",
       "    </tr>\n",
       "    <tr>\n",
       "      <th>1</th>\n",
       "      <td>70175</td>\n",
       "      <td>30.032997</td>\n",
       "      <td>-89.882564</td>\n",
       "      <td>Barkemeyer Law Firm</td>\n",
       "      <td>30.033591</td>\n",
       "      <td>-89.884306</td>\n",
       "      <td>Lawyer</td>\n",
       "    </tr>\n",
       "    <tr>\n",
       "      <th>2</th>\n",
       "      <td>70146</td>\n",
       "      <td>30.032997</td>\n",
       "      <td>-89.882564</td>\n",
       "      <td>Barkemeyer Law Firm</td>\n",
       "      <td>30.033591</td>\n",
       "      <td>-89.884306</td>\n",
       "      <td>Lawyer</td>\n",
       "    </tr>\n",
       "    <tr>\n",
       "      <th>3</th>\n",
       "      <td>70182</td>\n",
       "      <td>30.067646</td>\n",
       "      <td>-89.815993</td>\n",
       "      <td>J Martin Seafood</td>\n",
       "      <td>30.067292</td>\n",
       "      <td>-89.818889</td>\n",
       "      <td>Food</td>\n",
       "    </tr>\n",
       "    <tr>\n",
       "      <th>4</th>\n",
       "      <td>70182</td>\n",
       "      <td>30.067646</td>\n",
       "      <td>-89.815993</td>\n",
       "      <td>Environmental Analyst</td>\n",
       "      <td>30.067550</td>\n",
       "      <td>-89.812432</td>\n",
       "      <td>Boat or Ferry</td>\n",
       "    </tr>\n",
       "  </tbody>\n",
       "</table>\n",
       "</div>"
      ],
      "text/plain": [
       "  zipcode    zip_lat   zip_long                  venue  venue_lat  venue_long  \\\n",
       "0   70156  30.032997 -89.882564    Barkemeyer Law Firm  30.033591  -89.884306   \n",
       "1   70175  30.032997 -89.882564    Barkemeyer Law Firm  30.033591  -89.884306   \n",
       "2   70146  30.032997 -89.882564    Barkemeyer Law Firm  30.033591  -89.884306   \n",
       "3   70182  30.067646 -89.815993       J Martin Seafood  30.067292  -89.818889   \n",
       "4   70182  30.067646 -89.815993  Environmental Analyst  30.067550  -89.812432   \n",
       "\n",
       "  venue_category  \n",
       "0         Lawyer  \n",
       "1         Lawyer  \n",
       "2         Lawyer  \n",
       "3           Food  \n",
       "4  Boat or Ferry  "
      ]
     },
     "execution_count": 125,
     "metadata": {},
     "output_type": "execute_result"
    }
   ],
   "source": [
    "print(neworleans_venues.shape)\n",
    "neworleans_venues.head()"
   ]
  },
  {
   "cell_type": "markdown",
   "metadata": {},
   "source": [
    "I now have a dataframe of 1300 venues within the 66 zip codes in New Orleans.  With a dataframe of Foursquare venues within 1km of each New Orleans zip code enter in place, I'm ready to move forward with narrowing results to create a short-list of venues to target.  Since there is more than one way to do this, I will use part 1 of this data journey, to find the methods with the least computational burden."
   ]
  },
  {
   "cell_type": "markdown",
   "metadata": {},
   "source": [
    "Reviewing available venue categories, I have identified the following business categories as high potential for developing business channels:\n",
    "- Coffee Shop\n",
    "- Café\n",
    "- Dessert Shop\n",
    "- Vegetarian / Vegan Restaurant\n",
    "- Fondue Restaurant\n",
    "- Gluten-free Restaurant\n",
    "\n",
    "Next I will explore various methods to filter the dataframe to only include these venue categories, and identify the method with the lowest computational burden."
   ]
  },
  {
   "cell_type": "markdown",
   "metadata": {},
   "source": [
    "##### Leverage .isin selection to create a filtered list of venues that match the venue categories above"
   ]
  },
  {
   "cell_type": "code",
   "execution_count": 132,
   "metadata": {},
   "outputs": [
    {
     "data": {
      "text/html": [
       "<div>\n",
       "<style scoped>\n",
       "    .dataframe tbody tr th:only-of-type {\n",
       "        vertical-align: middle;\n",
       "    }\n",
       "\n",
       "    .dataframe tbody tr th {\n",
       "        vertical-align: top;\n",
       "    }\n",
       "\n",
       "    .dataframe thead th {\n",
       "        text-align: right;\n",
       "    }\n",
       "</style>\n",
       "<table border=\"1\" class=\"dataframe\">\n",
       "  <thead>\n",
       "    <tr style=\"text-align: right;\">\n",
       "      <th></th>\n",
       "      <th>zipcode</th>\n",
       "      <th>zip_lat</th>\n",
       "      <th>zip_long</th>\n",
       "      <th>venue</th>\n",
       "      <th>venue_lat</th>\n",
       "      <th>venue_long</th>\n",
       "      <th>venue_category</th>\n",
       "    </tr>\n",
       "  </thead>\n",
       "  <tbody>\n",
       "    <tr>\n",
       "      <th>10</th>\n",
       "      <td>70115</td>\n",
       "      <td>29.927305</td>\n",
       "      <td>-90.10197</td>\n",
       "      <td>French Truck Cafe</td>\n",
       "      <td>29.929239</td>\n",
       "      <td>-90.104610</td>\n",
       "      <td>Café</td>\n",
       "    </tr>\n",
       "    <tr>\n",
       "      <th>45</th>\n",
       "      <td>70115</td>\n",
       "      <td>29.927305</td>\n",
       "      <td>-90.10197</td>\n",
       "      <td>Mojo Coffee House</td>\n",
       "      <td>29.935092</td>\n",
       "      <td>-90.106383</td>\n",
       "      <td>Coffee Shop</td>\n",
       "    </tr>\n",
       "    <tr>\n",
       "      <th>46</th>\n",
       "      <td>70115</td>\n",
       "      <td>29.927305</td>\n",
       "      <td>-90.10197</td>\n",
       "      <td>Yogurtland</td>\n",
       "      <td>29.924917</td>\n",
       "      <td>-90.108316</td>\n",
       "      <td>Dessert Shop</td>\n",
       "    </tr>\n",
       "    <tr>\n",
       "      <th>49</th>\n",
       "      <td>70115</td>\n",
       "      <td>29.927305</td>\n",
       "      <td>-90.10197</td>\n",
       "      <td>Bearcat Cafe</td>\n",
       "      <td>29.935653</td>\n",
       "      <td>-90.104042</td>\n",
       "      <td>Coffee Shop</td>\n",
       "    </tr>\n",
       "    <tr>\n",
       "      <th>58</th>\n",
       "      <td>70115</td>\n",
       "      <td>29.927305</td>\n",
       "      <td>-90.10197</td>\n",
       "      <td>Rook Cafe</td>\n",
       "      <td>29.935027</td>\n",
       "      <td>-90.104727</td>\n",
       "      <td>Café</td>\n",
       "    </tr>\n",
       "    <tr>\n",
       "      <th>...</th>\n",
       "      <td>...</td>\n",
       "      <td>...</td>\n",
       "      <td>...</td>\n",
       "      <td>...</td>\n",
       "      <td>...</td>\n",
       "      <td>...</td>\n",
       "      <td>...</td>\n",
       "    </tr>\n",
       "    <tr>\n",
       "      <th>1269</th>\n",
       "      <td>70127</td>\n",
       "      <td>30.033475</td>\n",
       "      <td>-89.97736</td>\n",
       "      <td>PJ's Coffee</td>\n",
       "      <td>30.034993</td>\n",
       "      <td>-89.973959</td>\n",
       "      <td>Coffee Shop</td>\n",
       "    </tr>\n",
       "    <tr>\n",
       "      <th>1278</th>\n",
       "      <td>70127</td>\n",
       "      <td>30.033475</td>\n",
       "      <td>-89.97736</td>\n",
       "      <td>Julies Kitchen</td>\n",
       "      <td>30.031513</td>\n",
       "      <td>-89.971962</td>\n",
       "      <td>Café</td>\n",
       "    </tr>\n",
       "    <tr>\n",
       "      <th>1283</th>\n",
       "      <td>70123</td>\n",
       "      <td>29.952605</td>\n",
       "      <td>-90.20536</td>\n",
       "      <td>Starbucks</td>\n",
       "      <td>29.951572</td>\n",
       "      <td>-90.214060</td>\n",
       "      <td>Coffee Shop</td>\n",
       "    </tr>\n",
       "    <tr>\n",
       "      <th>1285</th>\n",
       "      <td>70123</td>\n",
       "      <td>29.952605</td>\n",
       "      <td>-90.20536</td>\n",
       "      <td>Starbucks</td>\n",
       "      <td>29.956446</td>\n",
       "      <td>-90.206528</td>\n",
       "      <td>Coffee Shop</td>\n",
       "    </tr>\n",
       "    <tr>\n",
       "      <th>1289</th>\n",
       "      <td>70123</td>\n",
       "      <td>29.952605</td>\n",
       "      <td>-90.20536</td>\n",
       "      <td>Tutti Frutti</td>\n",
       "      <td>29.947848</td>\n",
       "      <td>-90.213600</td>\n",
       "      <td>Dessert Shop</td>\n",
       "    </tr>\n",
       "  </tbody>\n",
       "</table>\n",
       "<p>85 rows × 7 columns</p>\n",
       "</div>"
      ],
      "text/plain": [
       "     zipcode    zip_lat  zip_long              venue  venue_lat  venue_long  \\\n",
       "10     70115  29.927305 -90.10197  French Truck Cafe  29.929239  -90.104610   \n",
       "45     70115  29.927305 -90.10197  Mojo Coffee House  29.935092  -90.106383   \n",
       "46     70115  29.927305 -90.10197         Yogurtland  29.924917  -90.108316   \n",
       "49     70115  29.927305 -90.10197       Bearcat Cafe  29.935653  -90.104042   \n",
       "58     70115  29.927305 -90.10197          Rook Cafe  29.935027  -90.104727   \n",
       "...      ...        ...       ...                ...        ...         ...   \n",
       "1269   70127  30.033475 -89.97736        PJ's Coffee  30.034993  -89.973959   \n",
       "1278   70127  30.033475 -89.97736     Julies Kitchen  30.031513  -89.971962   \n",
       "1283   70123  29.952605 -90.20536          Starbucks  29.951572  -90.214060   \n",
       "1285   70123  29.952605 -90.20536          Starbucks  29.956446  -90.206528   \n",
       "1289   70123  29.952605 -90.20536       Tutti Frutti  29.947848  -90.213600   \n",
       "\n",
       "     venue_category  \n",
       "10             Café  \n",
       "45      Coffee Shop  \n",
       "46     Dessert Shop  \n",
       "49      Coffee Shop  \n",
       "58             Café  \n",
       "...             ...  \n",
       "1269    Coffee Shop  \n",
       "1278           Café  \n",
       "1283    Coffee Shop  \n",
       "1285    Coffee Shop  \n",
       "1289   Dessert Shop  \n",
       "\n",
       "[85 rows x 7 columns]"
      ]
     },
     "execution_count": 132,
     "metadata": {},
     "output_type": "execute_result"
    }
   ],
   "source": [
    "categories = ['Coffee Shop','Café','Dessert Shop','Vegetarian / Vegan Restaurant','Fondue Restaurant','Gluten-free Restaurant']\n",
    "filtered_neworleans = neworleans_venues[neworleans_venues['venue_category'].isin(categories)]\n",
    "filtered_neworleans"
   ]
  },
  {
   "cell_type": "markdown",
   "metadata": {},
   "source": [
    "## Part 2:  Visualize results"
   ]
  },
  {
   "cell_type": "markdown",
   "metadata": {},
   "source": [
    "First I will look at the venue counts by zip code and create a bar chart of the results."
   ]
  },
  {
   "cell_type": "code",
   "execution_count": 133,
   "metadata": {},
   "outputs": [
    {
     "data": {
      "text/plain": [
       "zipcode\n",
       "70125     1\n",
       "70144     2\n",
       "70127     2\n",
       "70199     2\n",
       "70113     2\n",
       "70124     2\n",
       "70123     3\n",
       "70163     3\n",
       "70118     4\n",
       "70117     4\n",
       "70158     5\n",
       "70116     6\n",
       "70112     6\n",
       "70140     7\n",
       "70119     8\n",
       "70115     8\n",
       "70155     9\n",
       "70130    11\n",
       "dtype: int64"
      ]
     },
     "execution_count": 133,
     "metadata": {},
     "output_type": "execute_result"
    }
   ],
   "source": [
    "# set up dataframe that counts venues by zip code and sorts values in ascending order\n",
    "zip_count = filtered_neworleans.value_counts('zipcode').sort_values(ascending=True)\n",
    "zip_count"
   ]
  },
  {
   "cell_type": "code",
   "execution_count": 134,
   "metadata": {},
   "outputs": [
    {
     "data": {
      "image/png": "[encoded data removed]",
      "text/plain": [
       "<Figure size 576x720 with 1 Axes>"
      ]
     },
     "metadata": {
      "needs_background": "light"
     },
     "output_type": "display_data"
    }
   ],
   "source": [
    "# import libraries\n",
    "import matplotlib as mpl\n",
    "import matplotlib.pyplot as plt\n",
    "\n",
    "# set up chart\n",
    "\n",
    "zip_count.plot(kind='barh', figsize=(8, 10))\n",
    "\n",
    "# set up labels\n",
    "plt.ylabel('Zip Code') # add x-label to the plot\n",
    "plt.xlabel('Number of Businesses')\n",
    "plt.title('Distribution of New Orleans target businesses by zip code')\n",
    "\n",
    "# show chart\n",
    "plt.show()"
   ]
  },
  {
   "cell_type": "markdown",
   "metadata": {},
   "source": [
    "This gives me a high level view of total target venues by zip code.  I also want to take a look at the distribution across venue categories."
   ]
  },
  {
   "cell_type": "code",
   "execution_count": 135,
   "metadata": {},
   "outputs": [
    {
     "data": {
      "image/png": "[encoded data removed]",
      "text/plain": [
       "<Figure size 576x432 with 1 Axes>"
      ]
     },
     "metadata": {
      "needs_background": "light"
     },
     "output_type": "display_data"
    }
   ],
   "source": [
    "# set up dataframe that counts venues by zip code and sorts values in ascending order\n",
    "cat_count = filtered_neworleans.value_counts('venue_category').sort_values(ascending=True)\n",
    "\n",
    "# set up chart\n",
    "cat_count.plot(kind='barh', figsize=(8, 6))\n",
    "\n",
    "# set up labels\n",
    "plt.ylabel('Venue Category') # add x-label to the plot\n",
    "plt.xlabel('Number of Businesses')\n",
    "plt.title('Distribution of New Orleans target businesses by venue category')\n",
    "\n",
    "# show chart\n",
    "plt.show()"
   ]
  },
  {
   "cell_type": "markdown",
   "metadata": {},
   "source": [
    "The most common venue category by far is coffee shops followed by cafe's.  I'd also be interested in seeing how venue types are distributed within these numbers and across these zip codes.  First I'll need to create a count of each venue category by zip code."
   ]
  },
  {
   "cell_type": "code",
   "execution_count": 136,
   "metadata": {},
   "outputs": [
    {
     "data": {
      "text/html": [
       "<div>\n",
       "<style scoped>\n",
       "    .dataframe tbody tr th:only-of-type {\n",
       "        vertical-align: middle;\n",
       "    }\n",
       "\n",
       "    .dataframe tbody tr th {\n",
       "        vertical-align: top;\n",
       "    }\n",
       "\n",
       "    .dataframe thead th {\n",
       "        text-align: right;\n",
       "    }\n",
       "</style>\n",
       "<table border=\"1\" class=\"dataframe\">\n",
       "  <thead>\n",
       "    <tr style=\"text-align: right;\">\n",
       "      <th></th>\n",
       "      <th>zipcode</th>\n",
       "      <th>venue_category</th>\n",
       "      <th>venue</th>\n",
       "    </tr>\n",
       "  </thead>\n",
       "  <tbody>\n",
       "    <tr>\n",
       "      <th>0</th>\n",
       "      <td>70112</td>\n",
       "      <td>Café</td>\n",
       "      <td>2</td>\n",
       "    </tr>\n",
       "    <tr>\n",
       "      <th>1</th>\n",
       "      <td>70112</td>\n",
       "      <td>Coffee Shop</td>\n",
       "      <td>4</td>\n",
       "    </tr>\n",
       "    <tr>\n",
       "      <th>2</th>\n",
       "      <td>70113</td>\n",
       "      <td>Café</td>\n",
       "      <td>1</td>\n",
       "    </tr>\n",
       "    <tr>\n",
       "      <th>3</th>\n",
       "      <td>70113</td>\n",
       "      <td>Coffee Shop</td>\n",
       "      <td>1</td>\n",
       "    </tr>\n",
       "    <tr>\n",
       "      <th>4</th>\n",
       "      <td>70115</td>\n",
       "      <td>Café</td>\n",
       "      <td>2</td>\n",
       "    </tr>\n",
       "    <tr>\n",
       "      <th>5</th>\n",
       "      <td>70115</td>\n",
       "      <td>Coffee Shop</td>\n",
       "      <td>4</td>\n",
       "    </tr>\n",
       "    <tr>\n",
       "      <th>6</th>\n",
       "      <td>70115</td>\n",
       "      <td>Dessert Shop</td>\n",
       "      <td>1</td>\n",
       "    </tr>\n",
       "    <tr>\n",
       "      <th>7</th>\n",
       "      <td>70115</td>\n",
       "      <td>Gluten-free Restaurant</td>\n",
       "      <td>1</td>\n",
       "    </tr>\n",
       "    <tr>\n",
       "      <th>8</th>\n",
       "      <td>70116</td>\n",
       "      <td>Café</td>\n",
       "      <td>2</td>\n",
       "    </tr>\n",
       "    <tr>\n",
       "      <th>9</th>\n",
       "      <td>70116</td>\n",
       "      <td>Coffee Shop</td>\n",
       "      <td>4</td>\n",
       "    </tr>\n",
       "  </tbody>\n",
       "</table>\n",
       "</div>"
      ],
      "text/plain": [
       "  zipcode          venue_category  venue\n",
       "0   70112                    Café      2\n",
       "1   70112             Coffee Shop      4\n",
       "2   70113                    Café      1\n",
       "3   70113             Coffee Shop      1\n",
       "4   70115                    Café      2\n",
       "5   70115             Coffee Shop      4\n",
       "6   70115            Dessert Shop      1\n",
       "7   70115  Gluten-free Restaurant      1\n",
       "8   70116                    Café      2\n",
       "9   70116             Coffee Shop      4"
      ]
     },
     "execution_count": 136,
     "metadata": {},
     "output_type": "execute_result"
    }
   ],
   "source": [
    "# create a new dataframe that groups results by zip code and venue category with venue count for each as the value\n",
    "venue_catcount = filtered_neworleans.groupby(['zipcode','venue_category']).agg({'venue':'count'}).reset_index()\n",
    "\n",
    "# view first 10 rows of dataframe\n",
    "venue_catcount.head(10)"
   ]
  },
  {
   "cell_type": "markdown",
   "metadata": {},
   "source": [
    "Next I will create a pivot table from the venue_catcount dataframe since it will be easier to call columns."
   ]
  },
  {
   "cell_type": "code",
   "execution_count": 137,
   "metadata": {},
   "outputs": [
    {
     "data": {
      "text/html": [
       "<div>\n",
       "<style scoped>\n",
       "    .dataframe tbody tr th:only-of-type {\n",
       "        vertical-align: middle;\n",
       "    }\n",
       "\n",
       "    .dataframe tbody tr th {\n",
       "        vertical-align: top;\n",
       "    }\n",
       "\n",
       "    .dataframe thead th {\n",
       "        text-align: right;\n",
       "    }\n",
       "</style>\n",
       "<table border=\"1\" class=\"dataframe\">\n",
       "  <thead>\n",
       "    <tr style=\"text-align: right;\">\n",
       "      <th>venue_category</th>\n",
       "      <th>Café</th>\n",
       "      <th>Coffee Shop</th>\n",
       "      <th>Dessert Shop</th>\n",
       "      <th>Fondue Restaurant</th>\n",
       "      <th>Gluten-free Restaurant</th>\n",
       "      <th>Vegetarian / Vegan Restaurant</th>\n",
       "    </tr>\n",
       "    <tr>\n",
       "      <th>zipcode</th>\n",
       "      <th></th>\n",
       "      <th></th>\n",
       "      <th></th>\n",
       "      <th></th>\n",
       "      <th></th>\n",
       "      <th></th>\n",
       "    </tr>\n",
       "  </thead>\n",
       "  <tbody>\n",
       "    <tr>\n",
       "      <th>70112</th>\n",
       "      <td>2</td>\n",
       "      <td>4</td>\n",
       "      <td>0</td>\n",
       "      <td>0</td>\n",
       "      <td>0</td>\n",
       "      <td>0</td>\n",
       "    </tr>\n",
       "    <tr>\n",
       "      <th>70113</th>\n",
       "      <td>1</td>\n",
       "      <td>1</td>\n",
       "      <td>0</td>\n",
       "      <td>0</td>\n",
       "      <td>0</td>\n",
       "      <td>0</td>\n",
       "    </tr>\n",
       "    <tr>\n",
       "      <th>70115</th>\n",
       "      <td>2</td>\n",
       "      <td>4</td>\n",
       "      <td>1</td>\n",
       "      <td>0</td>\n",
       "      <td>1</td>\n",
       "      <td>0</td>\n",
       "    </tr>\n",
       "    <tr>\n",
       "      <th>70116</th>\n",
       "      <td>2</td>\n",
       "      <td>4</td>\n",
       "      <td>0</td>\n",
       "      <td>0</td>\n",
       "      <td>0</td>\n",
       "      <td>0</td>\n",
       "    </tr>\n",
       "    <tr>\n",
       "      <th>70117</th>\n",
       "      <td>0</td>\n",
       "      <td>2</td>\n",
       "      <td>1</td>\n",
       "      <td>0</td>\n",
       "      <td>0</td>\n",
       "      <td>1</td>\n",
       "    </tr>\n",
       "    <tr>\n",
       "      <th>70118</th>\n",
       "      <td>1</td>\n",
       "      <td>2</td>\n",
       "      <td>1</td>\n",
       "      <td>0</td>\n",
       "      <td>0</td>\n",
       "      <td>0</td>\n",
       "    </tr>\n",
       "    <tr>\n",
       "      <th>70119</th>\n",
       "      <td>1</td>\n",
       "      <td>4</td>\n",
       "      <td>1</td>\n",
       "      <td>0</td>\n",
       "      <td>0</td>\n",
       "      <td>2</td>\n",
       "    </tr>\n",
       "    <tr>\n",
       "      <th>70123</th>\n",
       "      <td>0</td>\n",
       "      <td>2</td>\n",
       "      <td>1</td>\n",
       "      <td>0</td>\n",
       "      <td>0</td>\n",
       "      <td>0</td>\n",
       "    </tr>\n",
       "    <tr>\n",
       "      <th>70124</th>\n",
       "      <td>0</td>\n",
       "      <td>2</td>\n",
       "      <td>0</td>\n",
       "      <td>0</td>\n",
       "      <td>0</td>\n",
       "      <td>0</td>\n",
       "    </tr>\n",
       "    <tr>\n",
       "      <th>70125</th>\n",
       "      <td>0</td>\n",
       "      <td>1</td>\n",
       "      <td>0</td>\n",
       "      <td>0</td>\n",
       "      <td>0</td>\n",
       "      <td>0</td>\n",
       "    </tr>\n",
       "    <tr>\n",
       "      <th>70127</th>\n",
       "      <td>1</td>\n",
       "      <td>1</td>\n",
       "      <td>0</td>\n",
       "      <td>0</td>\n",
       "      <td>0</td>\n",
       "      <td>0</td>\n",
       "    </tr>\n",
       "    <tr>\n",
       "      <th>70130</th>\n",
       "      <td>5</td>\n",
       "      <td>4</td>\n",
       "      <td>0</td>\n",
       "      <td>1</td>\n",
       "      <td>0</td>\n",
       "      <td>1</td>\n",
       "    </tr>\n",
       "    <tr>\n",
       "      <th>70140</th>\n",
       "      <td>2</td>\n",
       "      <td>5</td>\n",
       "      <td>0</td>\n",
       "      <td>0</td>\n",
       "      <td>0</td>\n",
       "      <td>0</td>\n",
       "    </tr>\n",
       "    <tr>\n",
       "      <th>70144</th>\n",
       "      <td>2</td>\n",
       "      <td>0</td>\n",
       "      <td>0</td>\n",
       "      <td>0</td>\n",
       "      <td>0</td>\n",
       "      <td>0</td>\n",
       "    </tr>\n",
       "    <tr>\n",
       "      <th>70155</th>\n",
       "      <td>2</td>\n",
       "      <td>7</td>\n",
       "      <td>0</td>\n",
       "      <td>0</td>\n",
       "      <td>0</td>\n",
       "      <td>0</td>\n",
       "    </tr>\n",
       "    <tr>\n",
       "      <th>70158</th>\n",
       "      <td>0</td>\n",
       "      <td>5</td>\n",
       "      <td>0</td>\n",
       "      <td>0</td>\n",
       "      <td>0</td>\n",
       "      <td>0</td>\n",
       "    </tr>\n",
       "    <tr>\n",
       "      <th>70163</th>\n",
       "      <td>1</td>\n",
       "      <td>2</td>\n",
       "      <td>0</td>\n",
       "      <td>0</td>\n",
       "      <td>0</td>\n",
       "      <td>0</td>\n",
       "    </tr>\n",
       "    <tr>\n",
       "      <th>70199</th>\n",
       "      <td>1</td>\n",
       "      <td>1</td>\n",
       "      <td>0</td>\n",
       "      <td>0</td>\n",
       "      <td>0</td>\n",
       "      <td>0</td>\n",
       "    </tr>\n",
       "  </tbody>\n",
       "</table>\n",
       "</div>"
      ],
      "text/plain": [
       "venue_category  Café  Coffee Shop  Dessert Shop  Fondue Restaurant  \\\n",
       "zipcode                                                              \n",
       "70112              2            4             0                  0   \n",
       "70113              1            1             0                  0   \n",
       "70115              2            4             1                  0   \n",
       "70116              2            4             0                  0   \n",
       "70117              0            2             1                  0   \n",
       "70118              1            2             1                  0   \n",
       "70119              1            4             1                  0   \n",
       "70123              0            2             1                  0   \n",
       "70124              0            2             0                  0   \n",
       "70125              0            1             0                  0   \n",
       "70127              1            1             0                  0   \n",
       "70130              5            4             0                  1   \n",
       "70140              2            5             0                  0   \n",
       "70144              2            0             0                  0   \n",
       "70155              2            7             0                  0   \n",
       "70158              0            5             0                  0   \n",
       "70163              1            2             0                  0   \n",
       "70199              1            1             0                  0   \n",
       "\n",
       "venue_category  Gluten-free Restaurant  Vegetarian / Vegan Restaurant  \n",
       "zipcode                                                                \n",
       "70112                                0                              0  \n",
       "70113                                0                              0  \n",
       "70115                                1                              0  \n",
       "70116                                0                              0  \n",
       "70117                                0                              1  \n",
       "70118                                0                              0  \n",
       "70119                                0                              2  \n",
       "70123                                0                              0  \n",
       "70124                                0                              0  \n",
       "70125                                0                              0  \n",
       "70127                                0                              0  \n",
       "70130                                0                              1  \n",
       "70140                                0                              0  \n",
       "70144                                0                              0  \n",
       "70155                                0                              0  \n",
       "70158                                0                              0  \n",
       "70163                                0                              0  \n",
       "70199                                0                              0  "
      ]
     },
     "execution_count": 137,
     "metadata": {},
     "output_type": "execute_result"
    }
   ],
   "source": [
    "catcount_pivot = venue_catcount.pivot_table(index='zipcode',\n",
    "                                           columns='venue_category',\n",
    "                                           values='venue',\n",
    "                                           aggfunc='sum',\n",
    "                                           fill_value=0)\n",
    "catcount_pivot.reset_index()\n",
    "catcount_pivot"
   ]
  },
  {
   "cell_type": "markdown",
   "metadata": {},
   "source": [
    "Now I'll create a bar chart that shows a count of venues by venue category for each zip code."
   ]
  },
  {
   "cell_type": "code",
   "execution_count": 139,
   "metadata": {},
   "outputs": [
    {
     "data": {
      "image/png": "[encoded data removed]",
      "text/plain": [
       "<Figure size 864x576 with 1 Axes>"
      ]
     },
     "metadata": {
      "needs_background": "light"
     },
     "output_type": "display_data"
    }
   ],
   "source": [
    "# create bar chart\n",
    "catcount_pivot.plot(\n",
    "    kind='bar',\n",
    "    stacked=True,\n",
    "    figsize = (12,8),\n",
    "    width = 0.7\n",
    "\n",
    ")\n",
    "\n",
    "#set up labels\n",
    "plt.xlabel('Zip Code')\n",
    "plt.ylabel('Count')\n",
    "plt.title ('Venue count by venue category for across New Orleans zip codes')\n",
    "\n",
    "# show chart\n",
    "plt.show()"
   ]
  },
  {
   "cell_type": "markdown",
   "metadata": {},
   "source": [
    "Based on this it looks like the, with the exception of zip code 70155, the zip codes with the highest number of venues would also enable a test of business channels across multiple venue categories.  Zip code 70115, for example, has cafes, coffee shops, as well as a gluten free restaurant and a dessert shop.  Zip code 70119 is similar, except it has 2 vegetarian/vegan restaurants instead of a gluten free restaurant.  Interestingly, some of the zip codes that fall in the middle with regards to total venue count, have less diversity in venue categories.  Zip codes 70112, 70116 and 70140 only have cafes and coffee shops while 70158 only has coffee shops.  Even though zip codes 70117 and 70118 have a lower total number of venues, the venues for each of these zip codes are distributed across 3 venue categories."
   ]
  },
  {
   "cell_type": "markdown",
   "metadata": {},
   "source": [
    "Finally I will use folium to plot these venues on a map."
   ]
  },
  {
   "cell_type": "code",
   "execution_count": 154,
   "metadata": {},
   "outputs": [],
   "source": [
    "#import folium\n",
    "import folium # plotting library\n",
    "\n",
    "from geopy.geocoders import Nominatim # module to convert an address into latitude and longitude values\n",
    "\n",
    "import html"
   ]
  },
  {
   "cell_type": "code",
   "execution_count": 155,
   "metadata": {},
   "outputs": [
    {
     "name": "stdout",
     "output_type": "stream",
     "text": [
      "29.9499323 -90.0701156\n"
     ]
    }
   ],
   "source": [
    "#look up chicago coordinates\n",
    "\n",
    "address = \"New Orleans, LA\"\n",
    "\n",
    "geolocator = Nominatim(user_agent=\"neworleans_agent\")\n",
    "location = geolocator.geocode(address)\n",
    "latitude = location.latitude\n",
    "longitude = location.longitude\n",
    "print(latitude, longitude)"
   ]
  },
  {
   "cell_type": "code",
   "execution_count": 159,
   "metadata": {
    "scrolled": true
   },
   "outputs": [
    {
     "data": {
      "text/html": [
       "<div style=\"width:100%;\"><div style=\"position:relative;width:100%;height:0;padding-bottom:60%;\"><span style=\"color:#565656\">Make this Notebook Trusted to load map: File -> Trust Notebook</span><iframe src=\"about:blank\" style=\"position:absolute;width:100%;height:100%;left:0;top:0;border:none !important;\" data-html=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 onload=\"this.contentDocument.open();this.contentDocument.write(atob(this.getAttribute('data-html')));this.contentDocument.close();\" allowfullscreen webkitallowfullscreen mozallowfullscreen></iframe></div></div>"
      ],
      "text/plain": [
       "<folium.folium.Map at 0x1c47e609fd0>"
      ]
     },
     "execution_count": 159,
     "metadata": {},
     "output_type": "execute_result"
    }
   ],
   "source": [
    "neworleans_map = folium.Map(location=[latitude, longitude], zoom_start=11) # generate map centred around city center\n",
    "\n",
    "# add New Orleans city center as a red circle mark\n",
    "folium.CircleMarker(\n",
    "    [latitude, longitude],\n",
    "    radius=5,\n",
    "    popup='New Orleans',\n",
    "    fill=True,\n",
    "    color='red',\n",
    "    fill_color='red',\n",
    "    fill_opacity=0.5\n",
    "    ).add_to(neworleans_map)\n",
    "\n",
    "\n",
    "# add venues to the map as black circles\n",
    "for lat, long, label in zip(filtered_neworleans['venue_lat'], filtered_neworleans['venue_long'], filtered_neworleans['venue']):\n",
    "    folium.CircleMarker(\n",
    "        [lat, long],\n",
    "        radius=2,\n",
    "        popup=html.escape(label),\n",
    "        fill=True,\n",
    "        color='black',\n",
    "        fill_color='black',\n",
    "        fill_opacity=0.5\n",
    "        ).add_to(neworleans_map)\n",
    "\n",
    "# display map\n",
    "neworleans_map"
   ]
  }
 ],
 "metadata": {
  "kernelspec": {
   "display_name": "Python 3",
   "language": "python",
   "name": "python3"
  },
  "language_info": {
   "codemirror_mode": {
    "name": "ipython",
    "version": 3
   },
   "file_extension": ".py",
   "mimetype": "text/x-python",
   "name": "python",
   "nbconvert_exporter": "python",
   "pygments_lexer": "ipython3",
   "version": "3.8.5"
  }
 },
 "nbformat": 4,
 "nbformat_minor": 4
}
